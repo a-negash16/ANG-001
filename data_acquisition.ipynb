{
 "cells": [
  {
   "cell_type": "markdown",
   "id": "45fc7bb8",
   "metadata": {},
   "source": [
    " ------------------------------------------------------------------------------------------------------------------\n",
    "                                                  ABRHAM NEGASH GELAN\n",
    "-----------------------------------------------------------------------------------------------------------------------\n",
    "                                            CS-181 Final Project - Data Acquisition\n",
    "                                                      08/11/22\n",
    "--------------------------------------------------------------------------------------------------------------------"
   ]
  },
  {
   "cell_type": "code",
   "execution_count": 1,
   "id": "0c9e1149",
   "metadata": {},
   "outputs": [],
   "source": [
    "import os\n",
    "import io\n",
    "import sys\n",
    "import importlib\n",
    "import pandas as pd\n",
    "from lxml import etree"
   ]
  },
  {
   "cell_type": "markdown",
   "id": "53e3dc6d",
   "metadata": {},
   "source": [
    "**Central Question**: Using countries GDP, life expectancy, and literacy rate reports : “Does a better economic status indicate a better health status and education system in countries?”.\n",
    "\n",
    "**Breakdown**: All these data sources have countries associated with them. I would create a larger database with countries that are represented in **all** data sets. In addition to that, the countries that will be added to the larger dataset are the ones that have values for gdp, life expectancy, and literacy rate. Then I will plot values in a graph to observe the relationship between gdp and life expectancy **and** gdp and literacy rate.\n",
    "\n",
    "**Data Sources**:\n",
    "\n",
    "DATA_SOURCE_1: List of countries by GDP https://en.wikipedia.org/api/rest_v1/page/html/List_of_countries_by_GDP_(nominal). Gross domestic product (GDP) is the annual market value of all final goods and services from a country. This data sources lists countries and their GDP in 2020.\n",
    "\n",
    "DATA_SOURCE_2: List of countries by Life expectancy https://en.wikipedia.org/api/rest_v1/page/html/List_of_countries_by_life_expectancy. \"Life expectancy is the average number of years a newborn would live if age-specific mortality rates in the current year were to stay the same throughout its life\" Wikipedia. This data sources lists the life expectancy of countries recorded at 2022 by the United Nations \n",
    "\n",
    "DATA_SOURCE_3: List of countries by Literacy Rate https://en.wikipedia.org/api/rest_v1/page/html/List_of_countries_by_literacy_rate. Literacy rate is the estimate of percentages of population in a given country that can read and write. This data source lists countries that are members of the UN and their recently recorded literacy rate."
   ]
  },
  {
   "cell_type": "code",
   "execution_count": 2,
   "id": "98b2872c",
   "metadata": {},
   "outputs": [],
   "source": [
    "# Download the HTML to a file\n",
    "!curl -s -o ds1.html https://en.wikipedia.org/api/rest_v1/page/html/List_of_countries_by_GDP_(nominal)\n",
    "!curl -s -o ds2.html https://en.wikipedia.org/api/rest_v1/page/html/List_of_countries_by_life_expectancy\n",
    "!curl -s -o ds3.html https://en.wikipedia.org/api/rest_v1/page/html/List_of_countries_by_literacy_rate"
   ]
  },
  {
   "cell_type": "markdown",
   "id": "823ed2bd",
   "metadata": {},
   "source": [
    "**Using etree to parse the root of the HTML tree from the downloaded html files**"
   ]
  },
  {
   "cell_type": "code",
   "execution_count": 3,
   "id": "4c4584f3",
   "metadata": {},
   "outputs": [],
   "source": [
    "\n",
    "htmlparser = etree.HTMLParser()\n",
    "\n",
    "#DATA_SOURCE_1\n",
    "path1 = os.path.join(\"ds1.html\")\n",
    "tree1 = etree.parse(path1, htmlparser)\n",
    "ds1_root = tree1.getroot()\n",
    "\n",
    "#DATA_SOURCE_2\n",
    "path2 = os.path.join(\"ds2.html\")\n",
    "tree2 = etree.parse(path2, htmlparser)\n",
    "ds2_root = tree2.getroot()\n",
    "\n",
    "#DATA_SOURCE_3\n",
    "path3 = os.path.join(\"ds3.html\")\n",
    "tree3 = etree.parse(path3, htmlparser)\n",
    "ds3_root = tree3.getroot()\n"
   ]
  },
  {
   "cell_type": "code",
   "execution_count": 160,
   "id": "ee5aca92",
   "metadata": {},
   "outputs": [],
   "source": [
    "table_root1=ds1_root.xpath(\"//table[position()=1]/tbody\")\n",
    "#table_root1\n",
    "\n",
    "#Columns\n",
    "col_1=ds1_root.xpath(\"//table[position()=1]/tbody/tr[position()=1]/th[position()=1]/text()\")\n",
    "col_1=col_1+ds1_root.xpath(\"//table[position()=1]/tbody/tr[position()=2]/th[position()>4]/text()\")\n",
    "\n",
    "#Data\n",
    "\n",
    "DoL={}\n",
    "DoL[col_1[0]]=[]\n",
    "DoL[col_1[1]]=[]\n",
    "\n",
    "for i in range (4,220):\n",
    "    c_region=ds1_root.xpath(\"//table[position()=1]/tbody/tr[position()='{}']/td[position()=1]/a/text()\".format(i))\n",
    "    estimate=ds1_root.xpath(\"//table[position()=1]/tbody/tr[position()='{}']/td[position()=7]/text()\".format(i))\n",
    "    DoL[col_1[0]].append(c_region[0])\n",
    "    if estimate!=[]:\n",
    "        DoL[col_1[1]].append(estimate[0])\n",
    "    else:\n",
    "        DoL[col_1[1]].append('N/A')\n",
    "\n",
    "\n",
    "df1=pd.DataFrame(DoL)\n",
    "#df1"
   ]
  },
  {
   "cell_type": "markdown",
   "id": "7a741ea5",
   "metadata": {},
   "source": [
    "**Method of Access**: xpath\n",
    "\n",
    "**Accessing the table**: There are multiple tables in the page. Thus, I accessed the table I want by specifying its position in the body of the html.\n",
    "\n",
    "**Columns**: The columns in this table were in different rows in the table so I accessed them based on their row position.\n",
    "\n",
    "**Data**: initialized a dictionary of lists with the column names as keys and empty lists as values. Data values start from the fourth row and end at the last one, thus I accessed the appropriate values based on their positions. The country names were appended to the list with the country/regions key. For the estimate (gdp) values, an if condition was set to check if the values were empty. If they were, a string of 'N/A' was appended, if not, the values were appended.\n",
    "\n",
    "**DataFrame creation**: A dataframe was created using the DoL"
   ]
  },
  {
   "cell_type": "code",
   "execution_count": 153,
   "id": "13e8fae5",
   "metadata": {},
   "outputs": [],
   "source": [
    "table_root2=ds2_root.xpath(\"//section[position()=4]/table/tbody\")\n",
    "#table_root2\n",
    "\n",
    "#Columns\n",
    "col_2=ds2_root.xpath(\"//section[position()=4]/table/tbody/tr[position()=1]/th/text()\")\n",
    "\n",
    "#Data\n",
    "DoL2={}\n",
    "DoL2[col_2[0]]=[]\n",
    "DoL2[col_2[1]]=[]\n",
    "\n",
    "for i in range (3,251):\n",
    "    c_region2=ds2_root.xpath(\"//section[position()=4]/table/tbody/tr[position()='{}']/td[position()=1]/a/text()\".format(i))\n",
    "    life_exp=ds2_root.xpath(\"//section[position()=4]/table/tbody/tr[position()='{}']/td[position()=2]/text()\".format(i))\n",
    "    if c_region2!=[]:\n",
    "        DoL2[col_2[0]].append(c_region2[0])\n",
    "        DoL2[col_2[1]].append(life_exp[0])\n",
    "\n",
    "\n",
    "df2=pd.DataFrame(DoL2)\n",
    "#df2"
   ]
  },
  {
   "cell_type": "markdown",
   "id": "f52f90c6",
   "metadata": {},
   "source": [
    "**Method of Access**: xpath\n",
    "\n",
    "**Accessing the table**: Accessed the desired table by specifying the section it was in.\n",
    "\n",
    "**Columns**: First row in the body of the table\n",
    "\n",
    "**Data**: initialized a dictionary of lists with the column names as keys and empty lists as values. Data values start from the third row and end at the last one, thus I accessed the appropriate values based on their positions.The first list also contains continents in addition to countries, which was irrelevant to the data desired. Therefore, and if condition was implemented to distinguish between country and continent values. Since the continent values were in a different position than that of the countries, the xpath would yield and empty list.\n",
    "\n",
    "**DataFrame creation**: A dataframe was created using the DoL"
   ]
  },
  {
   "cell_type": "code",
   "execution_count": 154,
   "id": "944d8ed5",
   "metadata": {},
   "outputs": [],
   "source": [
    "table_root3=ds3_root.xpath(\"//section[position()=3]/table/tbody\")\n",
    "#table_root3\n",
    "\n",
    "#Columns\n",
    "col_3=ds3_root.xpath(\"//section[position()=3]/table/tbody/tr[position()=1]/th/text()\")\n",
    "col_3\n",
    "\n",
    "#Data\n",
    "countries=ds3_root.xpath(\"//section[position()=3]/table/tbody/tr[position()>2]/td[position()=1]/a/text()\")\n",
    "country_adj= [i.split('\\u202f*')[0] for i in countries]\n",
    "lit_rate=ds3_root.xpath(\"//section[position()=3]/table/tbody/tr[position()>2]/td[position()=2]/text()\")\n",
    "\n",
    "\n",
    "DoL3={}\n",
    "DoL3[col_3[0]]=country_adj\n",
    "DoL3[col_3[1]]=[lit_rate[i] for i in range (len(lit_rate)-1)]\n",
    "\n",
    "df3=pd.DataFrame(DoL3)\n"
   ]
  },
  {
   "cell_type": "markdown",
   "id": "48bff854",
   "metadata": {},
   "source": [
    "**Method of Access**: xpath\n",
    "\n",
    "**Accessing the table**: Accessed the desired table by specifying the section it was in.\n",
    "\n",
    "**Columns**: Located in the first row in the body of the table\n",
    "\n",
    "**Data**: Two different lists were returned from an xpath statement that accessed the value of countries and literacy rate. Values of countries came along with a string ('\\u202f*') attached to their end which was removed using a list comprehension. Initialized a dictionary of lists with the columns as keys and the list of countries and literacy rates as values. The last value in the list of literacy rate was removed because it was the average literacy rate of the world (not a country)\n",
    "\n",
    "**DataFrame creation**: A dataframe was created using the DoL"
   ]
  },
  {
   "cell_type": "markdown",
   "id": "10c00fcf",
   "metadata": {},
   "source": [
    "**Additional Information**\n",
    "\n",
    "***Why these data sources? :*** This analysis would be interesting because GDP had always been critiqued for being an indicator that does not measure wealth of a country accurately. Analyzing the relationship between GDP **and** life expectancy and literacy rate would show if GDP plays a role in health status and education system in a country which could then be used to explain if GDP is still a good indicator for some variables other than wealth of a country.\n",
    "\n",
    "***Terms of Use for Data Source Scrapping :*** https://wikimedia.org/api/rest_v1/\n",
    "\n",
    "***Issues while scrapping :*** Implemented the method used for the third data source (create a list for every column and create a dataframe from those lists) for all data sources. However, some columns had missing values so the lists of columns had different lengths which did not allow for the creation of a dataframe. Another issue encountered was striping off the extra string for the country values in the third data source which was resolved after meeting with Dr. Amert."
   ]
  },
  {
   "cell_type": "code",
   "execution_count": null,
   "id": "d27eb734",
   "metadata": {},
   "outputs": [],
   "source": [
    "#Uncomment to preview parts of the dataframes\n",
    "\n",
    "#df1.head(15)\n",
    "#df2.head(15)\n",
    "#df3.head(15)"
   ]
  }
 ],
 "metadata": {
  "kernelspec": {
   "display_name": "Python 3 (ipykernel)",
   "language": "python",
   "name": "python3"
  },
  "language_info": {
   "codemirror_mode": {
    "name": "ipython",
    "version": 3
   },
   "file_extension": ".py",
   "mimetype": "text/x-python",
   "name": "python",
   "nbconvert_exporter": "python",
   "pygments_lexer": "ipython3",
   "version": "3.9.12"
  }
 },
 "nbformat": 4,
 "nbformat_minor": 5
}
