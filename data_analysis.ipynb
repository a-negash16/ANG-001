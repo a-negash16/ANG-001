{
 "cells": [
  {
   "cell_type": "markdown",
   "id": "f9125fad",
   "metadata": {},
   "source": [
    " ------------------------------------------------------------------------------------------------------------------\n",
    "                                                  ABRHAM NEGASH GELAN\n",
    "-----------------------------------------------------------------------------------------------------------------------\n",
    "                                            CS-181 Final Project - Data Analysis\n",
    "                                                      07/12/22\n",
    "--------------------------------------------------------------------------------------------------------------------"
   ]
  },
  {
   "cell_type": "code",
   "execution_count": 239,
   "id": "30f9499a",
   "metadata": {},
   "outputs": [],
   "source": [
    "import os.path\n",
    "import json\n",
    "import sqlalchemy as sa\n",
    "import pandas as pd"
   ]
  },
  {
   "cell_type": "code",
   "execution_count": 240,
   "id": "fd49712a",
   "metadata": {},
   "outputs": [],
   "source": [
    "def getsqlite_creds(dirname=\".\",filename=\"creds.json\",source=\"sqlite\"):\n",
    "    \"\"\" Using directory and filename parameters, open a credentials file\n",
    "        and obtain the two parts needed for a connection string to\n",
    "        a local provider using the \"sqlite\" dictionary within\n",
    "        an outer dictionary.  \n",
    "        \n",
    "        Return a scheme and a dbfile\n",
    "    \"\"\"\n",
    "    assert os.path.isfile(os.path.join(dirname, filename))\n",
    "    with open(os.path.join(dirname, filename)) as f:\n",
    "        D = json.load(f)\n",
    "    sqlite = D[source]\n",
    "    return sqlite[\"scheme\"], sqlite[\"dbdir\"], sqlite[\"database\"]\n",
    "\n",
    "def buildConnectionString(source):\n",
    "    scheme, dbdir, database = getsqlite_creds(source=source)\n",
    "    template = '{}:///{}/{}.db'\n",
    "    return template.format(scheme, dbdir, database)"
   ]
  },
  {
   "cell_type": "code",
   "execution_count": 241,
   "id": "237e4d30",
   "metadata": {},
   "outputs": [
    {
     "name": "stdout",
     "output_type": "stream",
     "text": [
      "Connection string: sqlite:///./project.db\n"
     ]
    }
   ],
   "source": [
    "# Build the conection string\n",
    "cstring = buildConnectionString(\"sqlite\")\n",
    "print(\"Connection string:\", cstring)\n",
    "\n",
    "# Connect to the database\n",
    "engine = sa.create_engine(cstring)\n",
    "connection = engine.connect()"
   ]
  },
  {
   "cell_type": "code",
   "execution_count": 242,
   "id": "d5ab1478",
   "metadata": {},
   "outputs": [
    {
     "name": "stdout",
     "output_type": "stream",
     "text": [
      "The sql extension is already loaded. To reload it, use:\n",
      "  %reload_ext sql\n"
     ]
    }
   ],
   "source": [
    "%load_ext sql\n",
    "%sql $cstring"
   ]
  },
  {
   "cell_type": "markdown",
   "id": "3d897dfe",
   "metadata": {},
   "source": [
    "**Central Question:** Using countries GDP, life expectancy, and literacy rate reports : “Does a better economic status indicate a better health status and education system in countries?”."
   ]
  },
  {
   "cell_type": "markdown",
   "id": "ce2a892b",
   "metadata": {},
   "source": [
    "***Simple Analysis of Data***: "
   ]
  },
  {
   "cell_type": "code",
   "execution_count": 243,
   "id": "8053c509",
   "metadata": {},
   "outputs": [
    {
     "name": "stdout",
     "output_type": "stream",
     "text": [
      " * sqlite:///./project.db\n",
      "Done.\n"
     ]
    },
    {
     "data": {
      "text/html": [
       "<div>\n",
       "<style scoped>\n",
       "    .dataframe tbody tr th:only-of-type {\n",
       "        vertical-align: middle;\n",
       "    }\n",
       "\n",
       "    .dataframe tbody tr th {\n",
       "        vertical-align: top;\n",
       "    }\n",
       "\n",
       "    .dataframe thead th {\n",
       "        text-align: right;\n",
       "    }\n",
       "</style>\n",
       "<table border=\"1\" class=\"dataframe\">\n",
       "  <thead>\n",
       "    <tr style=\"text-align: right;\">\n",
       "      <th></th>\n",
       "      <th>Country</th>\n",
       "      <th>Region</th>\n",
       "      <th>GDP</th>\n",
       "      <th>Life_Exp</th>\n",
       "      <th>Lit_Rate</th>\n",
       "    </tr>\n",
       "  </thead>\n",
       "  <tbody>\n",
       "    <tr>\n",
       "      <th>0</th>\n",
       "      <td>United States</td>\n",
       "      <td>Americas</td>\n",
       "      <td>20893746</td>\n",
       "      <td>77.2</td>\n",
       "      <td>86.0</td>\n",
       "    </tr>\n",
       "    <tr>\n",
       "      <th>1</th>\n",
       "      <td>China</td>\n",
       "      <td>Asia</td>\n",
       "      <td>14722801</td>\n",
       "      <td>78.2</td>\n",
       "      <td>96.8</td>\n",
       "    </tr>\n",
       "    <tr>\n",
       "      <th>2</th>\n",
       "      <td>Japan</td>\n",
       "      <td>Asia</td>\n",
       "      <td>5057759</td>\n",
       "      <td>84.8</td>\n",
       "      <td>99.0</td>\n",
       "    </tr>\n",
       "    <tr>\n",
       "      <th>3</th>\n",
       "      <td>Germany</td>\n",
       "      <td>Europe</td>\n",
       "      <td>3846414</td>\n",
       "      <td>80.6</td>\n",
       "      <td>99.0</td>\n",
       "    </tr>\n",
       "    <tr>\n",
       "      <th>4</th>\n",
       "      <td>India</td>\n",
       "      <td>Asia</td>\n",
       "      <td>2664749</td>\n",
       "      <td>67.2</td>\n",
       "      <td>77.7</td>\n",
       "    </tr>\n",
       "    <tr>\n",
       "      <th>5</th>\n",
       "      <td>United Kingdom</td>\n",
       "      <td>Europe</td>\n",
       "      <td>2764198</td>\n",
       "      <td>80.7</td>\n",
       "      <td>99.0</td>\n",
       "    </tr>\n",
       "    <tr>\n",
       "      <th>6</th>\n",
       "      <td>France</td>\n",
       "      <td>Europe</td>\n",
       "      <td>2630318</td>\n",
       "      <td>82.5</td>\n",
       "      <td>99.0</td>\n",
       "    </tr>\n",
       "    <tr>\n",
       "      <th>7</th>\n",
       "      <td>Canada</td>\n",
       "      <td>Americas</td>\n",
       "      <td>1644037</td>\n",
       "      <td>82.7</td>\n",
       "      <td>99.0</td>\n",
       "    </tr>\n",
       "    <tr>\n",
       "      <th>8</th>\n",
       "      <td>Russia</td>\n",
       "      <td>Europe</td>\n",
       "      <td>1483498</td>\n",
       "      <td>69.4</td>\n",
       "      <td>99.7</td>\n",
       "    </tr>\n",
       "    <tr>\n",
       "      <th>9</th>\n",
       "      <td>Italy</td>\n",
       "      <td>Europe</td>\n",
       "      <td>1888709</td>\n",
       "      <td>82.9</td>\n",
       "      <td>99.2</td>\n",
       "    </tr>\n",
       "  </tbody>\n",
       "</table>\n",
       "</div>"
      ],
      "text/plain": [
       "          Country    Region       GDP  Life_Exp  Lit_Rate\n",
       "0   United States  Americas  20893746      77.2      86.0\n",
       "1           China      Asia  14722801      78.2      96.8\n",
       "2           Japan      Asia   5057759      84.8      99.0\n",
       "3         Germany    Europe   3846414      80.6      99.0\n",
       "4           India      Asia   2664749      67.2      77.7\n",
       "5  United Kingdom    Europe   2764198      80.7      99.0\n",
       "6          France    Europe   2630318      82.5      99.0\n",
       "7          Canada  Americas   1644037      82.7      99.0\n",
       "8          Russia    Europe   1483498      69.4      99.7\n",
       "9           Italy    Europe   1888709      82.9      99.2"
      ]
     },
     "execution_count": 243,
     "metadata": {},
     "output_type": "execute_result"
    }
   ],
   "source": [
    "simple = \"\"\"\n",
    "SELECT *\n",
    "FROM indicators\n",
    "\n",
    "\"\"\"\n",
    "\n",
    "\n",
    "resultset = %sql $simple\n",
    "simple_df = resultset.DataFrame()\n",
    "simple_df.head(10)"
   ]
  },
  {
   "cell_type": "code",
   "execution_count": 244,
   "id": "7232af59",
   "metadata": {},
   "outputs": [
    {
     "data": {
      "text/plain": [
       "Text(0, 0.5, 'Life_Exp == BLUE \\n Lit_Rate == Orange')"
      ]
     },
     "execution_count": 244,
     "metadata": {},
     "output_type": "execute_result"
    },
    {
     "data": {
      "image/png": "[encoded data removed]",
      "text/plain": [
       "<Figure size 432x288 with 1 Axes>"
      ]
     },
     "metadata": {
      "needs_background": "light"
     },
     "output_type": "display_data"
    }
   ],
   "source": [
    "#Plotting\n",
    "\n",
    "import matplotlib.pyplot as plt\n",
    "y1=simple_df['Life_Exp']\n",
    "y2=simple_df['Lit_Rate']\n",
    "x=simple_df['GDP']\n",
    "\n",
    "plt.scatter(x,y1)\n",
    "plt.scatter(x,y2)\n",
    "\n",
    "plt.title(\"Simple Analysis\")\n",
    "plt.xlabel(\"GDP\")\n",
    "plt.ylabel(\"Life_Exp == BLUE \\n Lit_Rate == Orange\")"
   ]
  },
  {
   "cell_type": "markdown",
   "id": "09139263",
   "metadata": {},
   "source": [
    "Analysis: On a larger scale, the differences are hard to notice because the disparities between individual countries is very high. We can adjust the scale of the plot to observe the relationship between GDP **and** life expectancy and literacy rate.\n",
    "An alternative option would be breaking down the overall question into sub-questions."
   ]
  },
  {
   "cell_type": "markdown",
   "id": "19fef0ed",
   "metadata": {},
   "source": [
    "**Sub-Analysis: *Regional Differences***: Finding average gdp, life expectancy rate, and literacy rate for each region. This can help us observe the relationship between the variables and observe differences among regions."
   ]
  },
  {
   "cell_type": "code",
   "execution_count": 245,
   "id": "81040dc7",
   "metadata": {},
   "outputs": [
    {
     "name": "stdout",
     "output_type": "stream",
     "text": [
      " * sqlite:///./project.db\n",
      "Done.\n"
     ]
    },
    {
     "data": {
      "text/html": [
       "<div>\n",
       "<style scoped>\n",
       "    .dataframe tbody tr th:only-of-type {\n",
       "        vertical-align: middle;\n",
       "    }\n",
       "\n",
       "    .dataframe tbody tr th {\n",
       "        vertical-align: top;\n",
       "    }\n",
       "\n",
       "    .dataframe thead th {\n",
       "        text-align: right;\n",
       "    }\n",
       "</style>\n",
       "<table border=\"1\" class=\"dataframe\">\n",
       "  <thead>\n",
       "    <tr style=\"text-align: right;\">\n",
       "      <th></th>\n",
       "      <th>Region</th>\n",
       "      <th>GDP_Mean_In_Millions</th>\n",
       "      <th>Life_exp_Mean</th>\n",
       "      <th>Lit_Rate_Mean</th>\n",
       "    </tr>\n",
       "  </thead>\n",
       "  <tbody>\n",
       "    <tr>\n",
       "      <th>0</th>\n",
       "      <td>Americas</td>\n",
       "      <td>768962.97</td>\n",
       "      <td>72.58</td>\n",
       "      <td>92.77</td>\n",
       "    </tr>\n",
       "    <tr>\n",
       "      <th>1</th>\n",
       "      <td>Asia</td>\n",
       "      <td>710699.96</td>\n",
       "      <td>73.48</td>\n",
       "      <td>90.61</td>\n",
       "    </tr>\n",
       "    <tr>\n",
       "      <th>2</th>\n",
       "      <td>Europe</td>\n",
       "      <td>488295.63</td>\n",
       "      <td>78.60</td>\n",
       "      <td>99.07</td>\n",
       "    </tr>\n",
       "    <tr>\n",
       "      <th>3</th>\n",
       "      <td>Oceania</td>\n",
       "      <td>139028.33</td>\n",
       "      <td>70.80</td>\n",
       "      <td>92.77</td>\n",
       "    </tr>\n",
       "    <tr>\n",
       "      <th>4</th>\n",
       "      <td>Africa</td>\n",
       "      <td>46050.36</td>\n",
       "      <td>62.86</td>\n",
       "      <td>67.26</td>\n",
       "    </tr>\n",
       "  </tbody>\n",
       "</table>\n",
       "</div>"
      ],
      "text/plain": [
       "     Region  GDP_Mean_In_Millions  Life_exp_Mean  Lit_Rate_Mean\n",
       "0  Americas             768962.97          72.58          92.77\n",
       "1      Asia             710699.96          73.48          90.61\n",
       "2    Europe             488295.63          78.60          99.07\n",
       "3   Oceania             139028.33          70.80          92.77\n",
       "4    Africa              46050.36          62.86          67.26"
      ]
     },
     "execution_count": 245,
     "metadata": {},
     "output_type": "execute_result"
    }
   ],
   "source": [
    "query1 = \"\"\"\n",
    "SELECT Region, ROUND(AVG(GDP),2) AS GDP_Mean_In_Millions, ROUND(AVG(Life_Exp),2) AS Life_exp_Mean, ROUND(AVG(Lit_Rate),2) AS Lit_Rate_Mean\n",
    "FROM indicators\n",
    "WHERE Life_Exp NOT NULL AND Lit_Rate NOT NULL\n",
    "GROUP BY Region\n",
    "ORDER BY GDP_Mean_In_Millions DESC\n",
    "\n",
    "\"\"\"\n",
    "\n",
    "\n",
    "resultset = %sql $query1\n",
    "region_df = resultset.DataFrame()\n",
    "region_df.head(15)"
   ]
  },
  {
   "cell_type": "markdown",
   "id": "44cddc26",
   "metadata": {},
   "source": [
    "On a regional level, gdp seems to have a positive relationship with both life expectancy and literacy rate. Europe is the only region with a relatively lower gdp having the highest life expectancy and literacy rate."
   ]
  },
  {
   "cell_type": "markdown",
   "id": "dd42aab3",
   "metadata": {},
   "source": [
    "A more specific version of this analysis shows the country with the highest gdp for every region in indicators and reports their life expectancy and literacy rate. \n"
   ]
  },
  {
   "cell_type": "code",
   "execution_count": 246,
   "id": "8618a539",
   "metadata": {},
   "outputs": [
    {
     "name": "stdout",
     "output_type": "stream",
     "text": [
      " * sqlite:///./project.db\n",
      "Done.\n"
     ]
    },
    {
     "data": {
      "text/html": [
       "<div>\n",
       "<style scoped>\n",
       "    .dataframe tbody tr th:only-of-type {\n",
       "        vertical-align: middle;\n",
       "    }\n",
       "\n",
       "    .dataframe tbody tr th {\n",
       "        vertical-align: top;\n",
       "    }\n",
       "\n",
       "    .dataframe thead th {\n",
       "        text-align: right;\n",
       "    }\n",
       "</style>\n",
       "<table border=\"1\" class=\"dataframe\">\n",
       "  <thead>\n",
       "    <tr style=\"text-align: right;\">\n",
       "      <th></th>\n",
       "      <th>Country</th>\n",
       "      <th>Region</th>\n",
       "      <th>region_max</th>\n",
       "      <th>Lit_Rate</th>\n",
       "      <th>Life_Exp</th>\n",
       "    </tr>\n",
       "  </thead>\n",
       "  <tbody>\n",
       "    <tr>\n",
       "      <th>0</th>\n",
       "      <td>United States</td>\n",
       "      <td>Americas</td>\n",
       "      <td>20893746</td>\n",
       "      <td>86.0</td>\n",
       "      <td>77.2</td>\n",
       "    </tr>\n",
       "    <tr>\n",
       "      <th>1</th>\n",
       "      <td>China</td>\n",
       "      <td>Asia</td>\n",
       "      <td>14722801</td>\n",
       "      <td>96.8</td>\n",
       "      <td>78.2</td>\n",
       "    </tr>\n",
       "    <tr>\n",
       "      <th>2</th>\n",
       "      <td>Germany</td>\n",
       "      <td>Europe</td>\n",
       "      <td>3846414</td>\n",
       "      <td>99.0</td>\n",
       "      <td>80.6</td>\n",
       "    </tr>\n",
       "    <tr>\n",
       "      <th>3</th>\n",
       "      <td>Australia</td>\n",
       "      <td>Oceania</td>\n",
       "      <td>1423473</td>\n",
       "      <td>99.0</td>\n",
       "      <td>84.5</td>\n",
       "    </tr>\n",
       "    <tr>\n",
       "      <th>4</th>\n",
       "      <td>Nigeria</td>\n",
       "      <td>Africa</td>\n",
       "      <td>429899</td>\n",
       "      <td>62.0</td>\n",
       "      <td>52.7</td>\n",
       "    </tr>\n",
       "  </tbody>\n",
       "</table>\n",
       "</div>"
      ],
      "text/plain": [
       "         Country    Region  region_max  Lit_Rate  Life_Exp\n",
       "0  United States  Americas    20893746      86.0      77.2\n",
       "1          China      Asia    14722801      96.8      78.2\n",
       "2        Germany    Europe     3846414      99.0      80.6\n",
       "3      Australia   Oceania     1423473      99.0      84.5\n",
       "4        Nigeria    Africa      429899      62.0      52.7"
      ]
     },
     "execution_count": 246,
     "metadata": {},
     "output_type": "execute_result"
    }
   ],
   "source": [
    "query2 = \"\"\"\n",
    "SELECT Country, Region, MAX(GDP) AS region_max, Lit_rate,Life_Exp \n",
    "FROM indicators \n",
    "GROUP BY Region \n",
    "ORDER BY region_max DESC\n",
    "\"\"\"\n",
    "#SELECT Region, MAX(GDP) AS max_gdp FROM indicators\n",
    "resultset = %sql $query2\n",
    "region_df2 = resultset.DataFrame()\n",
    "region_df2.head(15)"
   ]
  },
  {
   "cell_type": "markdown",
   "id": "d1b724af",
   "metadata": {},
   "source": [
    "Results of this analysis show similar trends to the prior one. "
   ]
  },
  {
   "cell_type": "markdown",
   "id": "bf3031de",
   "metadata": {},
   "source": [
    "**Sub-Analysis: *Division***: The first plot was very congested due to the large disparity between countries. Thus, one solution to this would be dividing the countries up into two (countries with a gdp above the mean and countries with gdp less than the mean)."
   ]
  },
  {
   "cell_type": "code",
   "execution_count": 247,
   "id": "c2de9295",
   "metadata": {},
   "outputs": [
    {
     "name": "stdout",
     "output_type": "stream",
     "text": [
      " * sqlite:///./project.db\n",
      "Done.\n"
     ]
    },
    {
     "data": {
      "text/html": [
       "<div>\n",
       "<style scoped>\n",
       "    .dataframe tbody tr th:only-of-type {\n",
       "        vertical-align: middle;\n",
       "    }\n",
       "\n",
       "    .dataframe tbody tr th {\n",
       "        vertical-align: top;\n",
       "    }\n",
       "\n",
       "    .dataframe thead th {\n",
       "        text-align: right;\n",
       "    }\n",
       "</style>\n",
       "<table border=\"1\" class=\"dataframe\">\n",
       "  <thead>\n",
       "    <tr style=\"text-align: right;\">\n",
       "      <th></th>\n",
       "      <th>Country</th>\n",
       "      <th>Region</th>\n",
       "      <th>GDP</th>\n",
       "      <th>Life_Exp</th>\n",
       "      <th>Lit_Rate</th>\n",
       "    </tr>\n",
       "  </thead>\n",
       "  <tbody>\n",
       "    <tr>\n",
       "      <th>0</th>\n",
       "      <td>United States</td>\n",
       "      <td>Americas</td>\n",
       "      <td>20893746</td>\n",
       "      <td>77.2</td>\n",
       "      <td>86.0</td>\n",
       "    </tr>\n",
       "    <tr>\n",
       "      <th>1</th>\n",
       "      <td>China</td>\n",
       "      <td>Asia</td>\n",
       "      <td>14722801</td>\n",
       "      <td>78.2</td>\n",
       "      <td>96.8</td>\n",
       "    </tr>\n",
       "    <tr>\n",
       "      <th>2</th>\n",
       "      <td>Japan</td>\n",
       "      <td>Asia</td>\n",
       "      <td>5057759</td>\n",
       "      <td>84.8</td>\n",
       "      <td>99.0</td>\n",
       "    </tr>\n",
       "    <tr>\n",
       "      <th>3</th>\n",
       "      <td>Germany</td>\n",
       "      <td>Europe</td>\n",
       "      <td>3846414</td>\n",
       "      <td>80.6</td>\n",
       "      <td>99.0</td>\n",
       "    </tr>\n",
       "    <tr>\n",
       "      <th>4</th>\n",
       "      <td>India</td>\n",
       "      <td>Asia</td>\n",
       "      <td>2664749</td>\n",
       "      <td>67.2</td>\n",
       "      <td>77.7</td>\n",
       "    </tr>\n",
       "    <tr>\n",
       "      <th>5</th>\n",
       "      <td>United Kingdom</td>\n",
       "      <td>Europe</td>\n",
       "      <td>2764198</td>\n",
       "      <td>80.7</td>\n",
       "      <td>99.0</td>\n",
       "    </tr>\n",
       "    <tr>\n",
       "      <th>6</th>\n",
       "      <td>France</td>\n",
       "      <td>Europe</td>\n",
       "      <td>2630318</td>\n",
       "      <td>82.5</td>\n",
       "      <td>99.0</td>\n",
       "    </tr>\n",
       "    <tr>\n",
       "      <th>7</th>\n",
       "      <td>Canada</td>\n",
       "      <td>Americas</td>\n",
       "      <td>1644037</td>\n",
       "      <td>82.7</td>\n",
       "      <td>99.0</td>\n",
       "    </tr>\n",
       "    <tr>\n",
       "      <th>8</th>\n",
       "      <td>Russia</td>\n",
       "      <td>Europe</td>\n",
       "      <td>1483498</td>\n",
       "      <td>69.4</td>\n",
       "      <td>99.7</td>\n",
       "    </tr>\n",
       "    <tr>\n",
       "      <th>9</th>\n",
       "      <td>Italy</td>\n",
       "      <td>Europe</td>\n",
       "      <td>1888709</td>\n",
       "      <td>82.9</td>\n",
       "      <td>99.2</td>\n",
       "    </tr>\n",
       "  </tbody>\n",
       "</table>\n",
       "</div>"
      ],
      "text/plain": [
       "          Country    Region       GDP  Life_Exp  Lit_Rate\n",
       "0   United States  Americas  20893746      77.2      86.0\n",
       "1           China      Asia  14722801      78.2      96.8\n",
       "2           Japan      Asia   5057759      84.8      99.0\n",
       "3         Germany    Europe   3846414      80.6      99.0\n",
       "4           India      Asia   2664749      67.2      77.7\n",
       "5  United Kingdom    Europe   2764198      80.7      99.0\n",
       "6          France    Europe   2630318      82.5      99.0\n",
       "7          Canada  Americas   1644037      82.7      99.0\n",
       "8          Russia    Europe   1483498      69.4      99.7\n",
       "9           Italy    Europe   1888709      82.9      99.2"
      ]
     },
     "execution_count": 247,
     "metadata": {},
     "output_type": "execute_result"
    }
   ],
   "source": [
    "query3 = \"\"\"\n",
    "SELECT * FROM indicators WHERE GDP>(SELECT AVG(GDP) FROM indicators)\n",
    "\"\"\"\n",
    "#SELECT Region, MAX(GDP) AS max_gdp FROM indicators\n",
    "resultset = %sql $query3\n",
    "top_df = resultset.DataFrame()\n",
    "top_df.head(10)"
   ]
  },
  {
   "cell_type": "code",
   "execution_count": 248,
   "id": "fc31d827",
   "metadata": {},
   "outputs": [
    {
     "data": {
      "text/plain": [
       "Text(0, 0.5, 'Life_Exp == BLUE \\n Lit_Rate == Orange')"
      ]
     },
     "execution_count": 248,
     "metadata": {},
     "output_type": "execute_result"
    },
    {
     "data": {
      "image/png": "[encoded data removed]",
      "text/plain": [
       "<Figure size 432x288 with 1 Axes>"
      ]
     },
     "metadata": {
      "needs_background": "light"
     },
     "output_type": "display_data"
    }
   ],
   "source": [
    "#Plotting\n",
    "\n",
    "import matplotlib.pyplot as plt2\n",
    "top_y1=top_df['Life_Exp']\n",
    "top_y2=top_df['Lit_Rate']\n",
    "top_x=top_df['GDP']\n",
    "\n",
    "plt2.plot(top_x,top_y1)\n",
    "plt2.plot(top_x,top_y2)\n",
    "plt2.xlim(500000)\n",
    "plt2.ylim(50)\n",
    "plt2.title(\"Sub-Analysis_1_[Above Mean Countries]\")\n",
    "plt2.xlabel(\"GDP\")\n",
    "plt2.ylabel(\"Life_Exp == BLUE \\n Lit_Rate == Orange\")"
   ]
  },
  {
   "cell_type": "markdown",
   "id": "f5806a39",
   "metadata": {},
   "source": [
    "Although the plot would still be congested if not for the limits set on the axis, it is relatively less dense. Using the SQL statement, I was able to set the axis within a smaller range by executing the statement using various ordering clauses and finding the smallest and largest values for each indicator."
   ]
  },
  {
   "cell_type": "code",
   "execution_count": 249,
   "id": "7e21a0cc",
   "metadata": {},
   "outputs": [
    {
     "name": "stdout",
     "output_type": "stream",
     "text": [
      " * sqlite:///./project.db\n",
      "Done.\n"
     ]
    },
    {
     "data": {
      "text/html": [
       "<div>\n",
       "<style scoped>\n",
       "    .dataframe tbody tr th:only-of-type {\n",
       "        vertical-align: middle;\n",
       "    }\n",
       "\n",
       "    .dataframe tbody tr th {\n",
       "        vertical-align: top;\n",
       "    }\n",
       "\n",
       "    .dataframe thead th {\n",
       "        text-align: right;\n",
       "    }\n",
       "</style>\n",
       "<table border=\"1\" class=\"dataframe\">\n",
       "  <thead>\n",
       "    <tr style=\"text-align: right;\">\n",
       "      <th></th>\n",
       "      <th>Country</th>\n",
       "      <th>Region</th>\n",
       "      <th>GDP</th>\n",
       "      <th>Life_Exp</th>\n",
       "      <th>Lit_Rate</th>\n",
       "    </tr>\n",
       "  </thead>\n",
       "  <tbody>\n",
       "    <tr>\n",
       "      <th>0</th>\n",
       "      <td>Argentina</td>\n",
       "      <td>Americas</td>\n",
       "      <td>383067</td>\n",
       "      <td>75.4</td>\n",
       "      <td>99.00</td>\n",
       "    </tr>\n",
       "    <tr>\n",
       "      <th>1</th>\n",
       "      <td>Israel</td>\n",
       "      <td>Asia</td>\n",
       "      <td>407101</td>\n",
       "      <td>82.3</td>\n",
       "      <td>97.80</td>\n",
       "    </tr>\n",
       "    <tr>\n",
       "      <th>2</th>\n",
       "      <td>Ireland</td>\n",
       "      <td>Europe</td>\n",
       "      <td>425889</td>\n",
       "      <td>82.0</td>\n",
       "      <td>99.00</td>\n",
       "    </tr>\n",
       "    <tr>\n",
       "      <th>3</th>\n",
       "      <td>Norway</td>\n",
       "      <td>Europe</td>\n",
       "      <td>362522</td>\n",
       "      <td>83.2</td>\n",
       "      <td>100.00</td>\n",
       "    </tr>\n",
       "    <tr>\n",
       "      <th>4</th>\n",
       "      <td>Nigeria</td>\n",
       "      <td>Africa</td>\n",
       "      <td>429899</td>\n",
       "      <td>52.7</td>\n",
       "      <td>62.00</td>\n",
       "    </tr>\n",
       "    <tr>\n",
       "      <th>5</th>\n",
       "      <td>United Arab Emirates</td>\n",
       "      <td>Asia</td>\n",
       "      <td>358869</td>\n",
       "      <td>78.7</td>\n",
       "      <td>97.60</td>\n",
       "    </tr>\n",
       "    <tr>\n",
       "      <th>6</th>\n",
       "      <td>Egypt</td>\n",
       "      <td>Africa</td>\n",
       "      <td>369309</td>\n",
       "      <td>70.2</td>\n",
       "      <td>71.20</td>\n",
       "    </tr>\n",
       "    <tr>\n",
       "      <th>7</th>\n",
       "      <td>Austria</td>\n",
       "      <td>Europe</td>\n",
       "      <td>433258</td>\n",
       "      <td>81.6</td>\n",
       "      <td>98.00</td>\n",
       "    </tr>\n",
       "    <tr>\n",
       "      <th>8</th>\n",
       "      <td>Bangladesh</td>\n",
       "      <td>Asia</td>\n",
       "      <td>329484</td>\n",
       "      <td>72.4</td>\n",
       "      <td>74.66</td>\n",
       "    </tr>\n",
       "    <tr>\n",
       "      <th>9</th>\n",
       "      <td>Malaysia</td>\n",
       "      <td>Asia</td>\n",
       "      <td>336664</td>\n",
       "      <td>74.9</td>\n",
       "      <td>95.00</td>\n",
       "    </tr>\n",
       "  </tbody>\n",
       "</table>\n",
       "</div>"
      ],
      "text/plain": [
       "                Country    Region     GDP  Life_Exp  Lit_Rate\n",
       "0             Argentina  Americas  383067      75.4     99.00\n",
       "1                Israel      Asia  407101      82.3     97.80\n",
       "2               Ireland    Europe  425889      82.0     99.00\n",
       "3                Norway    Europe  362522      83.2    100.00\n",
       "4               Nigeria    Africa  429899      52.7     62.00\n",
       "5  United Arab Emirates      Asia  358869      78.7     97.60\n",
       "6                 Egypt    Africa  369309      70.2     71.20\n",
       "7               Austria    Europe  433258      81.6     98.00\n",
       "8            Bangladesh      Asia  329484      72.4     74.66\n",
       "9              Malaysia      Asia  336664      74.9     95.00"
      ]
     },
     "execution_count": 249,
     "metadata": {},
     "output_type": "execute_result"
    }
   ],
   "source": [
    "query4 = \"\"\"\n",
    "SELECT * FROM indicators WHERE GDP<(SELECT AVG(GDP) FROM indicators)\n",
    "\"\"\"\n",
    "#SELECT Region, MAX(GDP) AS max_gdp FROM indicators\n",
    "resultset = %sql $query4\n",
    "bottom_df = resultset.DataFrame()\n",
    "bottom_df.head(10)"
   ]
  },
  {
   "cell_type": "code",
   "execution_count": 250,
   "id": "0187ba43",
   "metadata": {},
   "outputs": [
    {
     "data": {
      "text/plain": [
       "Text(0, 0.5, 'Life_Exp == BLUE \\n Lit_Rate == Orange')"
      ]
     },
     "execution_count": 250,
     "metadata": {},
     "output_type": "execute_result"
    },
    {
     "data": {
      "image/png": "[encoded data removed]",
      "text/plain": [
       "<Figure size 432x288 with 1 Axes>"
      ]
     },
     "metadata": {
      "needs_background": "light"
     },
     "output_type": "display_data"
    }
   ],
   "source": [
    "#Plotting\n",
    "\n",
    "import matplotlib.pyplot as plt3\n",
    "bottom_y1=bottom_df['Life_Exp']\n",
    "bottom_y2=bottom_df['Lit_Rate']\n",
    "bottom_x=bottom_df['GDP']\n",
    "\n",
    "plt3.plot(bottom_x,bottom_y1)\n",
    "plt3.plot(bottom_x,bottom_y2)\n",
    "plt3.xlim(0,500000)\n",
    "\n",
    "plt2.title(\"Sub-Analysis_1_[Below Mean Countries]\")\n",
    "plt2.xlabel(\"GDP\")\n",
    "plt2.ylabel(\"Life_Exp == BLUE \\n Lit_Rate == Orange\")"
   ]
  },
  {
   "cell_type": "markdown",
   "id": "b8717903",
   "metadata": {},
   "source": [
    "What is different here is that majority of the countries in the world belong in this group. Therefore, the plot had a similar structure to that of the initial one. It is difficult to observe a relationship between the indicators because values vary vastly. However it can be seen that countries within the second half of this plot (higher gdp) are seen to have literacy rates and life expectancies that are at least 50%"
   ]
  },
  {
   "cell_type": "markdown",
   "id": "d90dce42",
   "metadata": {},
   "source": [
    "**Sub-Analysis: *Regional Analysis*** : A final approach to minimize these disrepancies is to perform analysis on each region. Instead of creating a statement query for every region, the cell below contains a function that takes in a region as input to perform the analysis made above for the region inserted in the parameter."
   ]
  },
  {
   "cell_type": "code",
   "execution_count": 251,
   "id": "2d6b6bdf",
   "metadata": {},
   "outputs": [],
   "source": [
    "#For Above mean analysis within region\n",
    "def departmentsByRegion1(connection,region):\n",
    "    top_query =\"\"\"\n",
    "    SELECT * \n",
    "    FROM indicators \n",
    "    WHERE GDP<(SELECT AVG(GDP) FROM indicators) AND Region='{}'\n",
    "    \"\"\"\n",
    "    query1 = top_query.format(region)\n",
    "    top_regional= pd.read_sql_query(query1, con=connection)\n",
    "    \n",
    "    #Plotting\n",
    "    import matplotlib.pyplot as plt4\n",
    "    top_regional_y1=top_regional['Life_Exp']\n",
    "    top_regional_y2=top_regional['Lit_Rate']\n",
    "    top_regional_x=top_regional['GDP']\n",
    "\n",
    "    plt4.plot(top_regional_x,top_regional_y1)\n",
    "    plt4.plot(top_regional_x,top_regional_y2)\n",
    "\n",
    "    plt4.title(\"Regional Analysis [Above Mean Countries]\")\n",
    "    plt4.xlabel(\"GDP\")\n",
    "    plt4.ylabel(\"Life_Exp == BLUE \\n Lit_Rate == Orange\")\n",
    "    return top_regional.head(10)\n",
    "\n",
    "\n",
    "#For Below mean analysis within region\n",
    "def departmentsByRegion2(connection,region):\n",
    "    bottom_query =\"\"\"\n",
    "    SELECT * \n",
    "    FROM indicators \n",
    "    WHERE GDP>(SELECT AVG(GDP) FROM indicators) AND Region='{}'\n",
    "    \"\"\"\n",
    "    query2 = bottom_query.format(region)\n",
    "    bottom_regional= pd.read_sql_query(query2, con=connection)\n",
    "    \n",
    "    #Plotting\n",
    "    import matplotlib.pyplot as plt5\n",
    "    bottom_regional_y1=bottom_regional['Life_Exp']\n",
    "    bottom_regional_y2=bottom_regional['Lit_Rate']\n",
    "    bottom_regional_x=bottom_regional['GDP']\n",
    "\n",
    "    plt5.plot(bottom_regional_x,bottom_regional_y1)\n",
    "    plt5.plot(bottom_regional_x,bottom_regional_y2)\n",
    "\n",
    "    plt5.title(\"Regional Analysis [Below Mean Countries]\")\n",
    "    plt5.xlabel(\"GDP\")\n",
    "    plt5.ylabel(\"Life_Exp == BLUE \\n Lit_Rate == Orange\")\n",
    "    return bottom_regional.head(10)"
   ]
  },
  {
   "cell_type": "code",
   "execution_count": 252,
   "id": "19ce9255",
   "metadata": {},
   "outputs": [],
   "source": [
    "#Example Regional Analysis\n",
    "\n",
    "#departmentsByRegion1(connection,'Europe')\n",
    "#departmentsByRegion2(connection,'Europe')"
   ]
  },
  {
   "cell_type": "markdown",
   "id": "25b6c9ab",
   "metadata": {},
   "source": [
    "***SUMMARY***\n",
    "\n",
    "Overall, it was difficult to compute the analysis with all the data extracted. Performing smaller analysis by performing divisions made it easier to look at the data.\n",
    "Although a linear relationship was not observed, all plots show that countries with higher GDP tend to also have higher life expectancy and literacy rates. In terms of challenges faced overall, it was hard to increase the complexity of the project. Due to having one table to work with, statements did not include joins; however, I tried hard to include more complex queries that work for a single table."
   ]
  },
  {
   "cell_type": "code",
   "execution_count": null,
   "id": "c536621d",
   "metadata": {},
   "outputs": [],
   "source": []
  },
  {
   "cell_type": "code",
   "execution_count": null,
   "id": "15b8aa21",
   "metadata": {},
   "outputs": [],
   "source": []
  },
  {
   "cell_type": "code",
   "execution_count": null,
   "id": "b60bddf0",
   "metadata": {},
   "outputs": [],
   "source": []
  }
 ],
 "metadata": {
  "kernelspec": {
   "display_name": "Python 3 (ipykernel)",
   "language": "python",
   "name": "python3"
  },
  "language_info": {
   "codemirror_mode": {
    "name": "ipython",
    "version": 3
   },
   "file_extension": ".py",
   "mimetype": "text/x-python",
   "name": "python",
   "nbconvert_exporter": "python",
   "pygments_lexer": "ipython3",
   "version": "3.9.12"
  }
 },
 "nbformat": 4,
 "nbformat_minor": 5
}
